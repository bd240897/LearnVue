{
  "nbformat": 4,
  "nbformat_minor": 0,
  "metadata": {
    "colab": {
      "provenance": [],
      "collapsed_sections": []
    },
    "kernelspec": {
      "name": "python3",
      "display_name": "Python 3"
    },
    "language_info": {
      "name": "python"
    }
  },
  "cells": [
    {
      "cell_type": "markdown",
      "source": [
        "# Финал"
      ],
      "metadata": {
        "id": "kLbhSSptC1yy"
      }
    },
    {
      "cell_type": "code",
      "source": [
        "import torch.nn as nn\n",
        "import torch\n",
        "from sklearn.preprocessing import LabelEncoder\n",
        "from torchvision import transforms\n",
        "from PIL import Image\n",
        "import pickle\n",
        "from pathlib import Path\n",
        "from os.path import basename\n",
        "import json\n",
        "import numpy as np"
      ],
      "metadata": {
        "id": "yNRKFlh5HaY2"
      },
      "execution_count": 1,
      "outputs": []
    },
    {
      "cell_type": "code",
      "source": [
        "# 1. КОНСТАНТЫ\n",
        "\n",
        "# обработка\n",
        "RESCALE_SIZE = 224\n",
        "\n",
        "# модель\n",
        "N_CLASSES = 42\n",
        "\n",
        "# загрузки\n",
        "PATH_MODEL = \"./ml_static/model_weights.pth\"\n",
        "PATH_LABEL_ENCODER = \"./ml_static/label_encoder.pkl\"\n",
        "PATH_LABELS_LIST = \"./ml_static/labels.json\"\n",
        "\n",
        "# картинка\n",
        "# пусть до картинки\n",
        "PATH_IMG_FILE = \"./ml_static/data/agnes_skinner/pic_0000.jpg\"\n",
        "# метка по названию папки\n",
        "correct_label = basename(Path(PATH_IMG_FILE).parent)"
      ],
      "metadata": {
        "id": "zNdIYBsXDWCm"
      },
      "execution_count": 2,
      "outputs": []
    },
    {
      "cell_type": "code",
      "source": [
        "# 2. ОБРАБОТКА ДАННЫХ (функции)\n",
        "\n",
        "def load_sample(file):\n",
        "    \"\"\"Загружаем изображения\"\"\"\n",
        "    image = Image.open(file)\n",
        "    image.load()\n",
        "    return image\n",
        "\n",
        "def do_resize(image):\n",
        "    \"\"\"Изменяем размер изображения\"\"\"\n",
        "    image = image.resize((RESCALE_SIZE, RESCALE_SIZE))\n",
        "    return np.array(image)\n",
        "\n",
        "def do_transform(file):\n",
        "    # для преобразования изображений в тензоры PyTorch и нормализации входа\n",
        "    transform = transforms.Compose([\n",
        "        transforms.ToTensor(),\n",
        "        transforms.Normalize([0.485, 0.456, 0.406], [0.229, 0.224, 0.225]) \n",
        "    ])\n",
        "\n",
        "    x = load_sample(file)\n",
        "    x = do_resize(x)\n",
        "    x = np.array(x / 255, dtype='float32')\n",
        "    x = transform(x)\n",
        "    return x"
      ],
      "metadata": {
        "id": "21y4BIdo0sYJ"
      },
      "execution_count": 3,
      "outputs": []
    },
    {
      "cell_type": "code",
      "source": [
        "# 3. СТРУКТУРА СЕТИ (класс)\n",
        "\n",
        "class SimpleCnn(nn.Module):\n",
        "\n",
        "    def __init__(self, n_classes):\n",
        "        super().__init__()\n",
        "        self.conv1 = nn.Sequential(\n",
        "            nn.Conv2d(in_channels=3, out_channels=8, kernel_size=3),\n",
        "            nn.ReLU(),\n",
        "            nn.MaxPool2d(kernel_size=2)\n",
        "        )\n",
        "        self.conv2 = nn.Sequential(\n",
        "            nn.Conv2d(in_channels=8, out_channels=16, kernel_size=3),\n",
        "            nn.ReLU(),\n",
        "            nn.MaxPool2d(kernel_size=2)\n",
        "        )\n",
        "        self.conv3 = nn.Sequential(\n",
        "            nn.Conv2d(in_channels=16, out_channels=32, kernel_size=3),\n",
        "            nn.ReLU(),\n",
        "            nn.MaxPool2d(kernel_size=2)\n",
        "        )\n",
        "        self.conv4 = nn.Sequential(\n",
        "            nn.Conv2d(in_channels=32, out_channels=64, kernel_size=3),\n",
        "            nn.ReLU(),\n",
        "            nn.MaxPool2d(kernel_size=2)\n",
        "        )\n",
        "        self.conv5 = nn.Sequential(\n",
        "            nn.Conv2d(in_channels=64, out_channels=96, kernel_size=3),\n",
        "            nn.ReLU(),\n",
        "            nn.MaxPool2d(kernel_size=2)\n",
        "        )\n",
        "\n",
        "        self.out = nn.Linear(96 * 5 * 5, n_classes)\n",
        "\n",
        "    def forward(self, x):\n",
        "        x = self.conv1(x)\n",
        "        x = self.conv2(x)\n",
        "        x = self.conv3(x)\n",
        "        x = self.conv4(x)\n",
        "        x = self.conv5(x)\n",
        "\n",
        "        x = x.view(x.size(0), -1)\n",
        "        logits = self.out(x)\n",
        "        return logits"
      ],
      "metadata": {
        "id": "2qGwTLGdDyGh"
      },
      "execution_count": 4,
      "outputs": []
    },
    {
      "cell_type": "code",
      "source": [
        "# 4. ПРЕДСКАЗАНИЕ ОДНОЙ КАРТИНКИ (функции)\n",
        "\n",
        "def predict_one_sample(model, inputs):\n",
        "    \"\"\"Предсказание, для одной картинки\"\"\"\n",
        "\n",
        "    with torch.no_grad():\n",
        "        inputs = inputs\n",
        "        model.eval()\n",
        "        logit = model(inputs)\n",
        "        probs = torch.nn.functional.softmax(logit, dim=-1).numpy()\n",
        "    return probs"
      ],
      "metadata": {
        "id": "rKRjwQn5J45a"
      },
      "execution_count": 5,
      "outputs": []
    },
    {
      "cell_type": "code",
      "source": [
        "# 5. ЗАГРУЗКА МОДЕЛИ ()\n",
        "\n",
        "# загрузка модели\n",
        "model = SimpleCnn(n_classes=N_CLASSES)\n",
        "model.load_state_dict(torch.load(PATH_MODEL, map_location=torch.device('cpu')))\n",
        "model.eval() # model.train() - это переключатель\n",
        "\n",
        "# загурзка кодирования лейблов\n",
        "label_encoder = pickle.load(open(PATH_LABEL_ENCODER, 'rb'))\n",
        "\n",
        "# загрузка списка меток\n",
        "with open(PATH_LABELS_LIST, 'r') as f:\n",
        "    labels_list = json.load(f)"
      ],
      "metadata": {
        "id": "WhyTIm6x4Fb_"
      },
      "execution_count": 6,
      "outputs": []
    },
    {
      "cell_type": "code",
      "source": [
        "# 6. ДЕЙСТВИЯ\n",
        "\n",
        "# обработка исходных данных\n",
        "one_pearson = do_transform(file=PATH_IMG_FILE)\n",
        "# предсказание модели\n",
        "probs_im = predict_one_sample(model, one_pearson.unsqueeze(0))\n",
        "# выбор индекса максимального аругменты\n",
        "id_y_pred = np.argmax(probs_im)\n",
        "# определение имени предсказанного класса класса \n",
        "label_encoder.classes_[id_y_pred]"
      ],
      "metadata": {
        "id": "1ES2nTHmDizn",
        "colab": {
          "base_uri": "https://localhost:8080/",
          "height": 36
        },
        "outputId": "ee37e89d-3e50-44fc-f1bc-db03af84a479"
      },
      "execution_count": 7,
      "outputs": [
        {
          "output_type": "execute_result",
          "data": {
            "text/plain": [
              "'kent_brockman'"
            ],
            "application/vnd.google.colaboratory.intrinsic+json": {
              "type": "string"
            }
          },
          "metadata": {},
          "execution_count": 7
        }
      ]
    }
  ]
}